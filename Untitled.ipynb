{
 "cells": [
  {
   "cell_type": "code",
   "execution_count": 2,
   "metadata": {},
   "outputs": [
    {
     "name": "stdout",
     "output_type": "stream",
     "text": [
      "Análise completa. Resultados em /home/scripts/mpmg/imagens/log.txt\n"
     ]
    }
   ],
   "source": [
    "#!/usr/bin/env python\n",
    "\n",
    "from imageprocessor import ImageProcessor\n",
    "from log import Log\n",
    "\n",
    "import sys, os\n",
    "import subprocess\n",
    "import warnings\n",
    "warnings.filterwarnings('ignore')\n",
    "warnings.simplefilter('ignore')\n",
    "import tensorflow as tf\n",
    "os.environ['TF_CPP_MIN_LOG_LEVEL'] = '3'\n",
    "\n",
    "try:\n",
    "    files_path = sys.argv[1]\n",
    "except:\n",
    "    print('Processo precisa do argumento files_path com a localizacao dos arquivos')\n",
    "    exit(1)\n",
    "\n",
    "img_proc = ImageProcessor(files_path)\n",
    "log_obj = Log(files_path)\n",
    "\n",
    "# use_gpu, total_processes, child_conn\n",
    "img_proc.process(True, 1, log_obj)    \n",
    "\n"
   ]
  }
 ],
 "metadata": {
  "kernelspec": {
   "display_name": "Python 3",
   "language": "python",
   "name": "python3"
  },
  "language_info": {
   "codemirror_mode": {
    "name": "ipython",
    "version": 3
   },
   "file_extension": ".py",
   "mimetype": "text/x-python",
   "name": "python",
   "nbconvert_exporter": "python",
   "pygments_lexer": "ipython3",
   "version": "3.6.8"
  }
 },
 "nbformat": 4,
 "nbformat_minor": 4
}
